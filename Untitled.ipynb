{
 "cells": [
  {
   "cell_type": "code",
   "execution_count": 2,
   "metadata": {},
   "outputs": [],
   "source": [
    "tom = Person.objects.all()[1]"
   ]
  },
  {
   "cell_type": "code",
   "execution_count": 16,
   "metadata": {},
   "outputs": [
    {
     "name": "stdout",
     "output_type": "stream",
     "text": [
      "<built-in method __dir__ of QuerySet object at 0x7f18585c1780>\n",
      "<built-in method __dir__ of QuerySet object at 0x7f18585e3c50>\n"
     ]
    }
   ],
   "source": [
    "people1 = Person.objects.all()\n",
    "people2 = Person.objects.prefetch_related('language_set').all()\n",
    "\n",
    "\n",
    "print(people1)\n",
    "print(people2)"
   ]
  },
  {
   "cell_type": "code",
   "execution_count": 23,
   "metadata": {},
   "outputs": [
    {
     "name": "stdout",
     "output_type": "stream",
     "text": [
      "<QuerySet [<Person: 김기동>, <Person: Tom>, <Person: Peter>, <Person: John>]>\n",
      "<QuerySet [<Person: 김기동>, <Person: Tom>, <Person: Peter>, <Person: John>]>\n"
     ]
    }
   ],
   "source": []
  }
 ],
 "metadata": {
  "kernelspec": {
   "display_name": "Django Shell-Plus",
   "language": "python",
   "name": "django_extensions"
  },
  "language_info": {
   "codemirror_mode": {
    "name": "ipython",
    "version": 3
   },
   "file_extension": ".py",
   "mimetype": "text/x-python",
   "name": "python",
   "nbconvert_exporter": "python",
   "pygments_lexer": "ipython3",
   "version": "3.7.2"
  }
 },
 "nbformat": 4,
 "nbformat_minor": 2
}
